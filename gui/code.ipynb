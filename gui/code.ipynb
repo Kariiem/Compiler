{
 "cells": [
  {
   "cell_type": "code",
   "execution_count": 1,
   "metadata": {},
   "outputs": [],
   "source": [
    "import pytest"
   ]
  },
  {
   "cell_type": "code",
   "execution_count": 3,
   "metadata": {},
   "outputs": [
    {
     "name": "stdout",
     "output_type": "stream",
     "text": [
      "Requirement already satisfied: PyQt5 in /home/osama/micromamba/lib/python3.9/site-packages (5.15.9)\n",
      "Requirement already satisfied: PyQt5-sip<13,>=12.11 in /home/osama/micromamba/lib/python3.9/site-packages (from PyQt5) (12.12.1)\n",
      "Requirement already satisfied: PyQt5-Qt5>=5.15.2 in /home/osama/micromamba/lib/python3.9/site-packages (from PyQt5) (5.15.2)\n",
      "Collecting pyqt5-tools\n",
      "  Using cached pyqt5_tools-5.15.9.3.3-py3-none-any.whl (29 kB)\n",
      "Collecting click (from pyqt5-tools)\n",
      "  Downloading click-8.1.3-py3-none-any.whl (96 kB)\n",
      "\u001b[2K     \u001b[38;2;114;156;31m━━━━━━━━━━━━━━━━━━━━━━━━━━━━━━━━━━━━━━━━\u001b[0m \u001b[32m96.6/96.6 kB\u001b[0m \u001b[31m1.2 MB/s\u001b[0m eta \u001b[36m0:00:00\u001b[0m31m841.4 kB/s\u001b[0m eta \u001b[36m0:00:01\u001b[0m\n",
      "\u001b[?25hRequirement already satisfied: pyqt5==5.15.9 in /home/osama/micromamba/lib/python3.9/site-packages (from pyqt5-tools) (5.15.9)\n",
      "Collecting pyqt5-plugins<5.15.9.3,>=5.15.9.2.2 (from pyqt5-tools)\n",
      "  Downloading pyqt5_plugins-5.15.9.2.3-cp39-cp39-manylinux2014_x86_64.whl (68 kB)\n",
      "\u001b[2K     \u001b[38;2;114;156;31m━━━━━━━━━━━━━━━━━━━━━━━━━━━━━━━━━━━━━━━━\u001b[0m \u001b[32m68.5/68.5 kB\u001b[0m \u001b[31m2.9 MB/s\u001b[0m eta \u001b[36m0:00:00\u001b[0m\n",
      "\u001b[?25hCollecting python-dotenv (from pyqt5-tools)\n",
      "  Downloading python_dotenv-1.0.0-py3-none-any.whl (19 kB)\n",
      "Requirement already satisfied: PyQt5-sip<13,>=12.11 in /home/osama/micromamba/lib/python3.9/site-packages (from pyqt5==5.15.9->pyqt5-tools) (12.12.1)\n",
      "Requirement already satisfied: PyQt5-Qt5>=5.15.2 in /home/osama/micromamba/lib/python3.9/site-packages (from pyqt5==5.15.9->pyqt5-tools) (5.15.2)\n",
      "Collecting qt5-tools<5.15.2.2,>=5.15.2.1.2 (from pyqt5-plugins<5.15.9.3,>=5.15.9.2.2->pyqt5-tools)\n",
      "  Downloading qt5_tools-5.15.2.1.3-py3-none-any.whl (13 kB)\n",
      "Collecting qt5-applications<5.15.2.3,>=5.15.2.2.2 (from qt5-tools<5.15.2.2,>=5.15.2.1.2->pyqt5-plugins<5.15.9.3,>=5.15.9.2.2->pyqt5-tools)\n",
      "  Downloading qt5_applications-5.15.2.2.3-py3-none-manylinux_2_17_x86_64.whl (85.7 MB)\n",
      "\u001b[2K     \u001b[38;2;114;156;31m━━━━━━━━━━━━━━━━━━━━━━━━━━━━━━━━━━━━━━━━\u001b[0m \u001b[32m85.7/85.7 MB\u001b[0m \u001b[31m2.2 MB/s\u001b[0m eta \u001b[36m0:00:00\u001b[0mm eta \u001b[36m0:00:01\u001b[0m[36m0:00:01\u001b[0m\n",
      "\u001b[?25hInstalling collected packages: qt5-applications, python-dotenv, click, qt5-tools, pyqt5-plugins, pyqt5-tools\n",
      "Successfully installed click-8.1.3 pyqt5-plugins-5.15.9.2.3 pyqt5-tools-5.15.9.3.3 python-dotenv-1.0.0 qt5-applications-5.15.2.2.3 qt5-tools-5.15.2.1.3\n"
     ]
    }
   ],
   "source": [
    "!pip install PyQt5\n",
    "!pip install pyqt5-tools"
   ]
  },
  {
   "cell_type": "code",
   "execution_count": 4,
   "metadata": {},
   "outputs": [
    {
     "ename": "SystemExit",
     "evalue": "0",
     "output_type": "error",
     "traceback": [
      "An exception has occurred, use %tb to see the full traceback.\n",
      "\u001b[0;31mSystemExit\u001b[0m\u001b[0;31m:\u001b[0m 0\n"
     ]
    },
    {
     "name": "stderr",
     "output_type": "stream",
     "text": [
      "/home/osama/micromamba/lib/python3.9/site-packages/IPython/core/interactiveshell.py:3516: UserWarning: To exit: use 'exit', 'quit', or Ctrl-D.\n",
      "  warn(\"To exit: use 'exit', 'quit', or Ctrl-D.\", stacklevel=1)\n"
     ]
    }
   ],
   "source": [
    "import sys\n",
    "from PyQt5.QtCore import *\n",
    "from PyQt5.QtGui import *\n",
    "from PyQt5.QtWidgets import *\n",
    "def window():\n",
    "   app = QApplication(sys.argv)\n",
    "   w = QWidget()\n",
    "   b = QLabel(w)\n",
    "   b.setText(\"Hello World!\")\n",
    "   w.setGeometry(100,100,200,50)\n",
    "   b.move(50,20)\n",
    "   w.setWindowTitle(\"PyQt5\")\n",
    "   w.show()\n",
    "   sys.exit(app.exec_())\n",
    "if __name__ == '__main__':\n",
    "   window()\n"
   ]
  },
  {
   "cell_type": "code",
   "execution_count": null,
   "metadata": {},
   "outputs": [],
   "source": []
  }
 ],
 "metadata": {
  "kernelspec": {
   "display_name": "base",
   "language": "python",
   "name": "python3"
  },
  "language_info": {
   "codemirror_mode": {
    "name": "ipython",
    "version": 3
   },
   "file_extension": ".py",
   "mimetype": "text/x-python",
   "name": "python",
   "nbconvert_exporter": "python",
   "pygments_lexer": "ipython3",
   "version": "3.9.16"
  },
  "orig_nbformat": 4
 },
 "nbformat": 4,
 "nbformat_minor": 2
}
