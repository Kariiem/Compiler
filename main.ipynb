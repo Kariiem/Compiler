{
 "cells": [
  {
   "cell_type": "code",
   "execution_count": 5,
   "metadata": {},
   "outputs": [
    {
     "name": "stdout",
     "output_type": "stream",
     "text": [
      "Requirement already satisfied: pyqt5 in /home/osama/micromamba/lib/python3.9/site-packages (5.15.9)\n",
      "Collecting pyqt5-tools\n",
      "  Downloading pyqt5_tools-5.15.9.3.3-py3-none-any.whl (29 kB)\n",
      "Requirement already satisfied: pyqt5-sip in /home/osama/micromamba/lib/python3.9/site-packages (12.12.1)\n",
      "\u001b[31mERROR: Could not find a version that satisfies the requirement pyqt5-dev-tools (from versions: none)\u001b[0m\u001b[31m\n",
      "\u001b[0m\u001b[31mERROR: No matching distribution found for pyqt5-dev-tools\u001b[0m\u001b[31m\n",
      "\u001b[0m"
     ]
    }
   ],
   "source": [
    "! pip3 install pyqt5 pyqt5-tools pyqt5-sip pyqt5-dev-tools pyqt5-common"
   ]
  },
  {
   "cell_type": "code",
   "execution_count": 4,
   "metadata": {},
   "outputs": [
    {
     "ename": "ModuleNotFoundError",
     "evalue": "No module named 'Pyqt5'",
     "output_type": "error",
     "traceback": [
      "\u001b[0;31m---------------------------------------------------------------------------\u001b[0m",
      "\u001b[0;31mModuleNotFoundError\u001b[0m                       Traceback (most recent call last)",
      "Cell \u001b[0;32mIn[4], line 1\u001b[0m\n\u001b[0;32m----> 1\u001b[0m \u001b[39mfrom\u001b[39;00m \u001b[39mPyqt5\u001b[39;00m \u001b[39mimport\u001b[39;00m QtCore, QtGui, QtWidgets\n",
      "\u001b[0;31mModuleNotFoundError\u001b[0m: No module named 'Pyqt5'"
     ]
    }
   ],
   "source": [
    "from Pyqt5 import QtCore, QtGui, QtWidgets"
   ]
  },
  {
   "cell_type": "code",
   "execution_count": null,
   "metadata": {},
   "outputs": [],
   "source": []
  }
 ],
 "metadata": {
  "kernelspec": {
   "display_name": "base",
   "language": "python",
   "name": "python3"
  },
  "language_info": {
   "codemirror_mode": {
    "name": "ipython",
    "version": 3
   },
   "file_extension": ".py",
   "mimetype": "text/x-python",
   "name": "python",
   "nbconvert_exporter": "python",
   "pygments_lexer": "ipython3",
   "version": "3.9.16"
  },
  "orig_nbformat": 4
 },
 "nbformat": 4,
 "nbformat_minor": 2
}
